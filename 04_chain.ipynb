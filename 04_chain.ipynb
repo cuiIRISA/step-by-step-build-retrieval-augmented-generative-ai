{
 "cells": [
  {
   "cell_type": "markdown",
   "id": "615c130f-44e9-4d6c-b533-97864431c49e",
   "metadata": {
    "tags": []
   },
   "source": [
    "#### This notebook has been tested with SageMaker Studio Notebooks, with Data science 3.0 and Python 3 environment"
   ]
  },
  {
   "cell_type": "code",
   "execution_count": 122,
   "id": "3357a1a1-d39d-4f86-b686-b06c9a892569",
   "metadata": {
    "tags": []
   },
   "outputs": [],
   "source": [
    "!pip install -q langchain==0.0.264"
   ]
  },
  {
   "cell_type": "code",
   "execution_count": 123,
   "id": "93587332-0577-4105-bd34-a976032cd726",
   "metadata": {
    "tags": []
   },
   "outputs": [
    {
     "name": "stdout",
     "output_type": "stream",
     "text": [
      "0.0.264\n"
     ]
    }
   ],
   "source": [
    "import langchain\n",
    "print(langchain.__version__)"
   ]
  },
  {
   "cell_type": "code",
   "execution_count": 124,
   "id": "14f6bc0c-7aaa-46a2-9e48-dea3ee0cd868",
   "metadata": {
    "tags": []
   },
   "outputs": [
    {
     "name": "stdout",
     "output_type": "stream",
     "text": [
      "us-east-1\n",
      "jumpstart-dft-meta-textgeneration-llama-2-7b-f\n"
     ]
    }
   ],
   "source": [
    "import boto3\n",
    "aws_region = boto3.Session().region_name\n",
    "print(aws_region)\n",
    "llm_endpoint_name = \"jumpstart-dft-meta-textgeneration-llama-2-7b-f\"\n",
    "print(endpoint_name)"
   ]
  },
  {
   "cell_type": "code",
   "execution_count": 125,
   "id": "eb3b99ef-847c-4b6b-9559-95e39804fe05",
   "metadata": {
    "tags": []
   },
   "outputs": [],
   "source": [
    "from langchain import PromptTemplate\n",
    "\n",
    "prompt_template = \"\"\"\n",
    "\n",
    "Please help me to find the answer, based on the retrieved information and the user input question.\n",
    "\n",
    "user input question:\n",
    "\n",
    "{user_query}\n",
    "\n",
    "retrieved information:\n",
    "\n",
    "{retrieved_information}\n",
    "\n",
    "Please ensure the answer are relevant to retrieved information, if you could not find the answer, please wrote #IDONTKNOW exact words without any extrat word. \n",
    "\n",
    "\"\"\"\n",
    "prompt = PromptTemplate.from_template(prompt_template)"
   ]
  },
  {
   "cell_type": "code",
   "execution_count": 126,
   "id": "de782908-4b65-4321-998d-b995ce8350ed",
   "metadata": {
    "tags": []
   },
   "outputs": [],
   "source": [
    "from langchain.prompts import StringPromptTemplate\n",
    "import pandas as pd\n",
    "from sklearn.preprocessing import normalize\n",
    "import numpy as np \n",
    "\n",
    "import psycopg2\n",
    "from pgvector.psycopg2 import register_vector\n",
    "import boto3 \n",
    "import json \n",
    "\n",
    "\n",
    "class RetrievedPromptTemplate(StringPromptTemplate):\n",
    "    embedding_endpoint_name = \"jumpstart-dft-mx-tcembedding-robertafin-large-uncased-2\"\n",
    "    \n",
    "    def format(self, **kwargs) -> str:\n",
    "        user_query = kwargs.pop(\"user_query\")\n",
    "        query_embedding = self.fetch_user_query_embedding(user_query)\n",
    "        retrieved_information = self.fetch_retrieved_information_from_pgvector(query_embedding)\n",
    "        \n",
    "        kwargs[\"user_query\"] = user_query\n",
    "        kwargs[\"retrieved_information\"] = retrieved_information\n",
    "        return prompt.format(**kwargs)\n",
    "    \n",
    "    \n",
    "    def fetch_retrieved_information_from_pgvector(self, query_vector):\n",
    "\n",
    "        client = boto3.client('secretsmanager')\n",
    "\n",
    "        response = client.get_secret_value(\n",
    "            SecretId='rdspg-vector-secret'\n",
    "        )\n",
    "        database_secrets = json.loads(response['SecretString'])\n",
    "        \n",
    "        dbhost = database_secrets['host']\n",
    "        dbport = database_secrets['port']\n",
    "        dbuser = database_secrets['username']\n",
    "        dbpass = database_secrets['password']\n",
    "\n",
    "        dbconn = psycopg2.connect(host=dbhost, user=dbuser, password=dbpass, port=dbport, connect_timeout=10)\n",
    "        dbconn.set_session(autocommit=True)\n",
    "        cur = dbconn.cursor()\n",
    "        \n",
    "        query_vector = str(query_vector.tolist())\n",
    "        #print(type(query_vector))\n",
    "\n",
    "        # Execute the query\n",
    "        cur.execute(\"\"\"\n",
    "            SELECT id, content, pdf_file_name, page_number, pdf_file_path, content_embeddings\n",
    "            FROM pdfembedding\n",
    "            ORDER BY content_embeddings <=> %s limit 3;\n",
    "            \"\"\",(query_vector,)\n",
    "        )\n",
    "        \n",
    "        # Fetch the results\n",
    "        content = \" \"\n",
    "        results = cur.fetchall()\n",
    "        for row in results:\n",
    "            content += row[1]+ \"\\n\"*5 \n",
    "            \n",
    "        cur.close()\n",
    "        dbconn.close()\n",
    "        #print(content)\n",
    "        return content\n",
    "    \n",
    "\n",
    "    def chunk_words(self,sequence, chunk_size):\n",
    "        sequence = sequence.split()\n",
    "        return [' '.join(sequence[i:i+chunk_size]) for i in range(0, len(sequence), chunk_size)]\n",
    "\n",
    "    def query_endpoint(self,payload):\n",
    "        embeddings = []\n",
    "        client = boto3.client(\"sagemaker-runtime\")\n",
    "        chunk_payload = self.chunk_words(payload, 400)\n",
    "        for i, chunk in enumerate(chunk_payload):\n",
    "            #print(\"Chunk \",i)\n",
    "            #print(\"Content \",chunk)\n",
    "            response = client.invoke_endpoint(\n",
    "                EndpointName=self.embedding_endpoint_name,\n",
    "                ContentType=\"application/x-text\",\n",
    "                Body=json.dumps(chunk),\n",
    "            )    \n",
    "            response = response[\"Body\"].read().decode(\"utf8\")\n",
    "            response = json.loads(response)\n",
    "            embeddings_chunk = response[\"embedding\"]\n",
    "            embeddings.append(embeddings_chunk)\n",
    "        return embeddings\n",
    "    \n",
    "    def parse_response(self, query_response):\n",
    "        \"\"\"Parse response and return the embedding.\"\"\"\n",
    "        embeddings = np.array(self.query_endpoint(query_response))\n",
    "        #avg_embeddings = np.mean(embeddings, axis=0)\n",
    "        # try max pooling of embedding vector\n",
    "        avg_embeddings = np.max(embeddings, axis=0)\n",
    "\n",
    "        avg_embeddings = avg_embeddings.reshape(1, -1)\n",
    "        # normalization before inner product\n",
    "        avg_embeddings = normalize(avg_embeddings, axis=1, norm='l2')\n",
    "        return np.squeeze(avg_embeddings)\n",
    "\n",
    "\n",
    "    def fetch_user_query_embedding(self, user_query): \n",
    "        return self.parse_response(user_query)"
   ]
  },
  {
   "cell_type": "code",
   "execution_count": 127,
   "id": "38c7f03d-aa85-48e5-bc50-a809264696c7",
   "metadata": {
    "tags": []
   },
   "outputs": [],
   "source": [
    "prompt_template = RetrievedPromptTemplate(input_variables=[\"user_query\"])\n"
   ]
  },
  {
   "cell_type": "code",
   "execution_count": 128,
   "id": "c995ebb2-c6c3-4ff1-8394-0fdb04beaa1f",
   "metadata": {
    "tags": []
   },
   "outputs": [],
   "source": [
    "Question = \"\"\"\n",
    "Who is the Chairman of the Board and Chief Executive Officer\n",
    "\"\"\""
   ]
  },
  {
   "cell_type": "code",
   "execution_count": 129,
   "id": "3e0f0c24-0808-47d3-ba4c-17a645f17e90",
   "metadata": {
    "tags": []
   },
   "outputs": [
    {
     "name": "stdout",
     "output_type": "stream",
     "text": [
      "\n",
      "\n",
      "Please help me to find the answer, based on the retrieved information and the user input question.\n",
      "\n",
      "user input question:\n",
      "\n",
      "\n",
      "Who is the Chairman of the Board and Chief Executive Officer\n",
      "\n",
      "\n",
      "retrieved information:\n",
      "\n",
      " 45\n",
      "2022 ANNUAL REPORT\n",
      "Directors and Senior Management \n",
      "The Directors of the Company during the Reporting Period and up to the date of the annual report were: \n",
      "Executive Directors\n",
      "Lei Jun\n",
      "Lin Bin\n",
      "Liu De\n",
      "Non-Executive Director\n",
      "Liu Qin\n",
      "Independent Non-Executive Directors\n",
      "Chen Dongsheng \n",
      "Wong Shun Tak \n",
      "Tong Wai Cheung Timothy \n",
      "The Company has received from each independent non-executive Director an annual confirmation of his independence \n",
      "pursuant to Rule 3.13 of the Listing Rules and the Board considers them as independent.\n",
      "Biographical Details and Other Information of the Directors\n",
      "The biographical details of the Directors who held office during the Reporting Period and up to the Latest Practicable Date are as out below:\n",
      "Lei Jun (雷軍) , aged 53, is an executive Director, the Founder, the Chairman, the CEO of the Company, and the chief \n",
      "executive officer of the smart electric vehicle business. He is also a member of the Remuneration Committee. Lei \n",
      "Jun is overall responsible for the Company’s strategy, company culture and key products. He oversees the senior management team. Lei Jun currently holds directorships in various subsidiaries, Consolidated Affiliated Entities and \n",
      "operating entities of the Group.\n",
      "In 2000, Lei Jun founded joyo.com, an online retailing platform, which was acquired by Amazon in 2004. Meanwhile, as \n",
      "an angel investor, Lei Jun has also invested in various innovative businesses including JOYY Inc. and UCWeb. Lei Jun is also a renowned technology entrepreneur in mainland China. Lei Jun joined Kingsoft Corporation Limited (HKEx Stock \n",
      "Code: 3888) in 1992 and has held various senior positions in Kingsoft, including as the chairman of the board since July \n",
      "2011, non-executive director since August 2008 and the chief executive officer between 1998 and December 2007. From \n",
      "December 2011, Lei Jun has served as a director of Beijing Kingsoft Office Software, Inc. (Sci-Tech Innovation Board of \n",
      "the Shanghai Stock Exchange ticker: 688111). From January 2012 and April 2015, Lei Jun has been the non-executive \n",
      "director and the Chairman of Kingsoft Cloud Holdings Limited (HKEx Stock Code: 3896; NASDAQ ticker: KC) respectively.\n",
      "Lei Jun graduated from Wuhan University ( 武漢大學 ) in July 1991 and received a Bachelor of Science in Computer \n",
      "Science. \n",
      "\n",
      "\n",
      "\n",
      "\n",
      "88\n",
      "XIAOMI CORPORATION\n",
      "CORPORATE GOVERNANCE REPORT\n",
      "During the Review Period, the Board has reviewed and considered the implementation of the Board Diversity Policy \n",
      "to be on track. The implementation of the Board Diversity Policy is evidenced by the fact that our Directors are from a diverse age group with experience from different industries and sectors. The Directors have a balanced mix of \n",
      "knowledge and skills, including knowledge and experience in the areas of computer science, engineering, business \n",
      "administration, human resources, finance, and corporate governance. They obtained degrees in various areas including computer science, engineering, electronics, industrial design, business administration, finance, and political \n",
      "economics. The Board is characterized by significant diversity in terms of age, education background and professional \n",
      "experience. \n",
      "The Company is also committed to ensure that recruitment and selection practices at all levels are appropriately \n",
      "structured so that a diverse range of candidates are considered. The Nomination Committee shall report its findings \n",
      "and make recommendation to the Board to complement the Company’s corporate strategy and to ensure that the Board maintains a balanced diverse profile.\n",
      "Director Nomination Policy\n",
      "The Company has also adopted a nomination policy for the election of Directors in accordance with mandatory disclosure requirement E(d)(iii) of the CG Code. Such policy, devising the criteria and procedures of selection and \n",
      "performance evaluation, provides guidance to the Board on nomination and appointment of Directors of the Company. \n",
      "The Board believes that the defined selection process is good for corporate governance in ensuring the Board continuity and appropriate leadership at Board level, and enhancing Board effectiveness and diversity.\n",
      "The Nomination Committee and the Board may nominate candidates for directorship. In assessing the suitability and \n",
      "the potential contribution to the Board of a proposed candidate, the Nomination Committee may make reference to \n",
      "certain selection criteria, such as reputation for integrity, professional qualifications and skills, accomplishment and experience in the internet and technology markets, commitment and relevant contribution, diversity in all aspects. The Nomination Committee shall report its findings and make recommendation to the Board on the appointment of \n",
      "appropriate candidate for directorship for decision and succession planning. The ultimate responsibility for selection \n",
      "and appointment of Directors rests with the entire Board.\n",
      "Remuneration Committee\n",
      "The Company has established the Remuneration Committee with written terms of reference in compliance with Rule 3.25 of the Listing Rules and the CG code. The primary duties of the Remuneration Committee are to review and make recommendations to the Board regarding the terms of remuneration packages, bonuses and other compensation \n",
      "payable to the Directors and senior management. The Remuneration Committee comprises one executive Director and \n",
      "two independent non-executive Directors, namely, Lei Jun, Chen Dongsheng and Wong Shun Tak. Chen Dongsheng is the chairman of the Remuneration Committee.\n",
      "\n",
      "\n",
      "\n",
      "\n",
      "80\n",
      "XIAOMI CORPORATION\n",
      "CORPORATE GOVERNANCE REPORT\n",
      "The Directors have disclosed to the Company details of other offices held by them.\n",
      "The Board reserves for its discretion on all major matters relating to policy matters, strategies and budgets, \n",
      "internal control and risk management, material transactions (in particular those that may involve conflict of \n",
      "interests), financial information, appointment of directors and other significant operational matters of the Company. Responsibilities relating to implementing decisions of the Board, directing and coordinating the daily operation and \n",
      "management of the Company are delegated to the chief executive officer and management. The delegated functions \n",
      "and responsibilities are periodically reviewed by the Board. Approval has to be obtained from the Board prior to any significant transactions entered into by the aforesaid officers. \n",
      "Chairman and Chief Executive Officer\n",
      "Pursuant to code provision C.2.1 of the CG Code, companies listed on the Stock Exchange are expected to comply with, but may choose to deviate from the requirement that the responsibilities between the chairman and the chief executive officer should be segregated and should not be performed by the same individual. The Company does not \n",
      "have a separate chairman and chief executive officer and Lei Jun currently performs these two roles. The Board \n",
      "believes that vesting the roles of both chairman and chief executive officer in the same person has the benefit of ensuring consistent leadership within the Group and enabling more effective and efficient overall strategic planning for the Group. The Board considers that the balance of power and authority for the present arrangement will not be \n",
      "impaired and this structure will enable the Company to make and implement decisions promptly and effectively. The \n",
      "Board will continue to review and consider segregating the roles of the chairman of the Board and the chief executive officer of the Company at an appropriate time, taking into account the circumstances of the Group as a whole.\n",
      "Appointment and Re-Election of Directors\n",
      "According to the Articles, at every annual general meeting of the Company, one-third of the Directors for the time being (or if their number is not three or a multiple of three, then the number nearest to but not less than one-third) shall retire from office by rotation provided that every Director (including those appointed for a specific term) shall \n",
      "be subject to retirement by rotation at least once every three years. A Director appointed by the Board or by ordinary \n",
      "resolutions of the Company, either to fill a casual vacancy or as an addition to the Board, shall hold office only until the next following general meeting of the Company. All retiring Directors shall be eligible for re-election.\n",
      "Each Director (including the non-executive Director and independent non-executive Directors) is engaged for a term \n",
      "of three years, which is automatically renewed for terms of another three years. They are subject to retirement and re-election in accordance with the provisions of the Articles as mentioned above.\n",
      "Continuous Professional Development of Directors\n",
      "Directors shall keep abreast of regulatory developments and changes in order to effectively perform their responsibilities and to ensure that their contribution to the Board remains informed and relevant. \n",
      "\n",
      "\n",
      "\n",
      "\n",
      "\n",
      "\n",
      "Please ensure the answer are relevant to retrieved information, if you could not find the answer, please wrote #IDONTKNOW exact words without any extrat word. \n",
      "\n",
      "\n"
     ]
    }
   ],
   "source": [
    "print(prompt_template.format(user_query=Question))"
   ]
  },
  {
   "cell_type": "code",
   "execution_count": 130,
   "id": "fe3543a6-c63d-41d8-9512-9b0f697945d4",
   "metadata": {
    "tags": []
   },
   "outputs": [],
   "source": [
    "from langchain import PromptTemplate, SagemakerEndpoint\n",
    "from langchain.llms.sagemaker_endpoint import LLMContentHandler\n",
    "import json\n",
    "\n",
    "class ContentHandler(LLMContentHandler):\n",
    "    content_type = \"application/json\"\n",
    "    accepts = \"application/json\"\n",
    "\n",
    "    def transform_input(self, prompt: str, model_kwargs: dict) -> bytes:\n",
    "        input_str = json.dumps({\"inputs\" : [[{\"role\" : \"system\",\n",
    "        \"content\" : \"You are an accuracy information searching AI assitance.\"},\n",
    "        {\"role\" : \"user\", \"content\" : prompt}]],\n",
    "        \"parameters\" : {**model_kwargs}})\n",
    "        return input_str.encode('utf-8')\n",
    "    \n",
    "    def transform_output(self, output: bytes) -> str:\n",
    "        response_json = json.loads(output.read().decode(\"utf-8\"))\n",
    "        return response_json[0][\"generation\"][\"content\"]\n",
    "    \n",
    "\n",
    "parameters = {\n",
    "    \"max_new_tokens\": 500,\n",
    "    \"top_p\":0.9, \n",
    "    \"temperature\":0.01\n",
    "}\n",
    "\n",
    "content_handler = ContentHandler()\n",
    "\n",
    "sm_llm = SagemakerEndpoint(\n",
    "    endpoint_name = llm_endpoint_name, \n",
    "    region_name = aws_region, \n",
    "    model_kwargs = parameters,\n",
    "    endpoint_kwargs={\"CustomAttributes\": 'accept_eula=true'},\n",
    "    content_handler = content_handler,\n",
    ")"
   ]
  },
  {
   "cell_type": "code",
   "execution_count": 131,
   "id": "2fea2022-65a2-4618-bd84-554a381326d4",
   "metadata": {
    "tags": []
   },
   "outputs": [],
   "source": [
    "Question = \"\"\"\n",
    "Who is the Chairman of the Board and Chief Executive Officer\n",
    "\"\"\""
   ]
  },
  {
   "cell_type": "code",
   "execution_count": 132,
   "id": "cbff9b2c-538e-4ca9-a688-dc594e476d58",
   "metadata": {
    "tags": []
   },
   "outputs": [],
   "source": [
    "from langchain.chains import LLMChain\n",
    "\n",
    "\n",
    "llmchain = LLMChain(llm=sm_llm, prompt=prompt_template)\n",
    "rag_results = llmchain.run({\n",
    "    'user_query': Question,\n",
    "    })\n",
    "\n",
    "# OUTPUT\n",
    "# PodConneXion"
   ]
  },
  {
   "cell_type": "code",
   "execution_count": 133,
   "id": "89ae9843-6735-4928-87c5-a496ddac5744",
   "metadata": {
    "tags": []
   },
   "outputs": [
    {
     "name": "stdout",
     "output_type": "stream",
     "text": [
      " Based on the retrieved information, the answer to the user's question \"Who is the Chairman of the Board and Chief Executive Officer of Xiaomi Corporation?\" is:\n",
      "\n",
      "Lei Jun.\n",
      "\n",
      "According to the information provided in the annual report, Lei Jun is the Chairman of the Board and Chief Executive Officer of Xiaomi Corporation. He is also an executive Director and the founder of the company.\n"
     ]
    }
   ],
   "source": [
    "print(rag_results)"
   ]
  },
  {
   "cell_type": "code",
   "execution_count": 136,
   "id": "4bd3729c-3df5-466e-966e-878c56e33535",
   "metadata": {},
   "outputs": [],
   "source": [
    "Question = \"\"\"\n",
    "What is the main business of Xiaomi\n",
    "\"\"\""
   ]
  },
  {
   "cell_type": "code",
   "execution_count": 137,
   "id": "4c623926-ea89-4da6-b6ac-1f92d80806fe",
   "metadata": {},
   "outputs": [
    {
     "name": "stdout",
     "output_type": "stream",
     "text": [
      " Based on the retrieved information, the main business of Xiaomi can be summarized as:\n",
      "\n",
      "1. Smartphones: Xiaomi is a leading smartphone manufacturer that offers a range of high-quality, affordable smartphones with innovative features and designs.\n",
      "2. AIoT (Artificial Intelligence of Things): Xiaomi is also a major player in the AIoT market, offering a range of smart home devices, wearables, and other AI-enabled products that integrate with its smartphones and other devices.\n",
      "3. Offline Channels: Xiaomi has a strong offline channel presence, with over 10,000 retail stores in mainland China, and it continues to optimize its offline channel business, including display layouts, product mix, and cross-selling promotions.\n",
      "4. Corporate Social Responsibility: Xiaomi highly values corporate social responsibility and actively promotes sustainable development through various initiatives, including donations to charitable organizations and environmental protection efforts.\n",
      "\n",
      "In response to the user input question, \"What is the main business of Xiaomi?\", I would answer:\n",
      "\n",
      "Xiaomi's main business is smartphones and AIoT products, with a focus on innovative technology and affordable prices to enable a better life for users.\n"
     ]
    }
   ],
   "source": [
    "from langchain.chains import LLMChain\n",
    "\n",
    "rag_results = llmchain.run({\n",
    "    'user_query': Question,\n",
    "    })\n",
    "print(rag_results)"
   ]
  },
  {
   "cell_type": "code",
   "execution_count": null,
   "id": "add35114-203f-4bb0-9ed2-64803c76ab28",
   "metadata": {},
   "outputs": [],
   "source": []
  }
 ],
 "metadata": {
  "availableInstances": [
   {
    "_defaultOrder": 0,
    "_isFastLaunch": true,
    "category": "General purpose",
    "gpuNum": 0,
    "hideHardwareSpecs": false,
    "memoryGiB": 4,
    "name": "ml.t3.medium",
    "vcpuNum": 2
   },
   {
    "_defaultOrder": 1,
    "_isFastLaunch": false,
    "category": "General purpose",
    "gpuNum": 0,
    "hideHardwareSpecs": false,
    "memoryGiB": 8,
    "name": "ml.t3.large",
    "vcpuNum": 2
   },
   {
    "_defaultOrder": 2,
    "_isFastLaunch": false,
    "category": "General purpose",
    "gpuNum": 0,
    "hideHardwareSpecs": false,
    "memoryGiB": 16,
    "name": "ml.t3.xlarge",
    "vcpuNum": 4
   },
   {
    "_defaultOrder": 3,
    "_isFastLaunch": false,
    "category": "General purpose",
    "gpuNum": 0,
    "hideHardwareSpecs": false,
    "memoryGiB": 32,
    "name": "ml.t3.2xlarge",
    "vcpuNum": 8
   },
   {
    "_defaultOrder": 4,
    "_isFastLaunch": true,
    "category": "General purpose",
    "gpuNum": 0,
    "hideHardwareSpecs": false,
    "memoryGiB": 8,
    "name": "ml.m5.large",
    "vcpuNum": 2
   },
   {
    "_defaultOrder": 5,
    "_isFastLaunch": false,
    "category": "General purpose",
    "gpuNum": 0,
    "hideHardwareSpecs": false,
    "memoryGiB": 16,
    "name": "ml.m5.xlarge",
    "vcpuNum": 4
   },
   {
    "_defaultOrder": 6,
    "_isFastLaunch": false,
    "category": "General purpose",
    "gpuNum": 0,
    "hideHardwareSpecs": false,
    "memoryGiB": 32,
    "name": "ml.m5.2xlarge",
    "vcpuNum": 8
   },
   {
    "_defaultOrder": 7,
    "_isFastLaunch": false,
    "category": "General purpose",
    "gpuNum": 0,
    "hideHardwareSpecs": false,
    "memoryGiB": 64,
    "name": "ml.m5.4xlarge",
    "vcpuNum": 16
   },
   {
    "_defaultOrder": 8,
    "_isFastLaunch": false,
    "category": "General purpose",
    "gpuNum": 0,
    "hideHardwareSpecs": false,
    "memoryGiB": 128,
    "name": "ml.m5.8xlarge",
    "vcpuNum": 32
   },
   {
    "_defaultOrder": 9,
    "_isFastLaunch": false,
    "category": "General purpose",
    "gpuNum": 0,
    "hideHardwareSpecs": false,
    "memoryGiB": 192,
    "name": "ml.m5.12xlarge",
    "vcpuNum": 48
   },
   {
    "_defaultOrder": 10,
    "_isFastLaunch": false,
    "category": "General purpose",
    "gpuNum": 0,
    "hideHardwareSpecs": false,
    "memoryGiB": 256,
    "name": "ml.m5.16xlarge",
    "vcpuNum": 64
   },
   {
    "_defaultOrder": 11,
    "_isFastLaunch": false,
    "category": "General purpose",
    "gpuNum": 0,
    "hideHardwareSpecs": false,
    "memoryGiB": 384,
    "name": "ml.m5.24xlarge",
    "vcpuNum": 96
   },
   {
    "_defaultOrder": 12,
    "_isFastLaunch": false,
    "category": "General purpose",
    "gpuNum": 0,
    "hideHardwareSpecs": false,
    "memoryGiB": 8,
    "name": "ml.m5d.large",
    "vcpuNum": 2
   },
   {
    "_defaultOrder": 13,
    "_isFastLaunch": false,
    "category": "General purpose",
    "gpuNum": 0,
    "hideHardwareSpecs": false,
    "memoryGiB": 16,
    "name": "ml.m5d.xlarge",
    "vcpuNum": 4
   },
   {
    "_defaultOrder": 14,
    "_isFastLaunch": false,
    "category": "General purpose",
    "gpuNum": 0,
    "hideHardwareSpecs": false,
    "memoryGiB": 32,
    "name": "ml.m5d.2xlarge",
    "vcpuNum": 8
   },
   {
    "_defaultOrder": 15,
    "_isFastLaunch": false,
    "category": "General purpose",
    "gpuNum": 0,
    "hideHardwareSpecs": false,
    "memoryGiB": 64,
    "name": "ml.m5d.4xlarge",
    "vcpuNum": 16
   },
   {
    "_defaultOrder": 16,
    "_isFastLaunch": false,
    "category": "General purpose",
    "gpuNum": 0,
    "hideHardwareSpecs": false,
    "memoryGiB": 128,
    "name": "ml.m5d.8xlarge",
    "vcpuNum": 32
   },
   {
    "_defaultOrder": 17,
    "_isFastLaunch": false,
    "category": "General purpose",
    "gpuNum": 0,
    "hideHardwareSpecs": false,
    "memoryGiB": 192,
    "name": "ml.m5d.12xlarge",
    "vcpuNum": 48
   },
   {
    "_defaultOrder": 18,
    "_isFastLaunch": false,
    "category": "General purpose",
    "gpuNum": 0,
    "hideHardwareSpecs": false,
    "memoryGiB": 256,
    "name": "ml.m5d.16xlarge",
    "vcpuNum": 64
   },
   {
    "_defaultOrder": 19,
    "_isFastLaunch": false,
    "category": "General purpose",
    "gpuNum": 0,
    "hideHardwareSpecs": false,
    "memoryGiB": 384,
    "name": "ml.m5d.24xlarge",
    "vcpuNum": 96
   },
   {
    "_defaultOrder": 20,
    "_isFastLaunch": false,
    "category": "General purpose",
    "gpuNum": 0,
    "hideHardwareSpecs": true,
    "memoryGiB": 0,
    "name": "ml.geospatial.interactive",
    "supportedImageNames": [
     "sagemaker-geospatial-v1-0"
    ],
    "vcpuNum": 0
   },
   {
    "_defaultOrder": 21,
    "_isFastLaunch": true,
    "category": "Compute optimized",
    "gpuNum": 0,
    "hideHardwareSpecs": false,
    "memoryGiB": 4,
    "name": "ml.c5.large",
    "vcpuNum": 2
   },
   {
    "_defaultOrder": 22,
    "_isFastLaunch": false,
    "category": "Compute optimized",
    "gpuNum": 0,
    "hideHardwareSpecs": false,
    "memoryGiB": 8,
    "name": "ml.c5.xlarge",
    "vcpuNum": 4
   },
   {
    "_defaultOrder": 23,
    "_isFastLaunch": false,
    "category": "Compute optimized",
    "gpuNum": 0,
    "hideHardwareSpecs": false,
    "memoryGiB": 16,
    "name": "ml.c5.2xlarge",
    "vcpuNum": 8
   },
   {
    "_defaultOrder": 24,
    "_isFastLaunch": false,
    "category": "Compute optimized",
    "gpuNum": 0,
    "hideHardwareSpecs": false,
    "memoryGiB": 32,
    "name": "ml.c5.4xlarge",
    "vcpuNum": 16
   },
   {
    "_defaultOrder": 25,
    "_isFastLaunch": false,
    "category": "Compute optimized",
    "gpuNum": 0,
    "hideHardwareSpecs": false,
    "memoryGiB": 72,
    "name": "ml.c5.9xlarge",
    "vcpuNum": 36
   },
   {
    "_defaultOrder": 26,
    "_isFastLaunch": false,
    "category": "Compute optimized",
    "gpuNum": 0,
    "hideHardwareSpecs": false,
    "memoryGiB": 96,
    "name": "ml.c5.12xlarge",
    "vcpuNum": 48
   },
   {
    "_defaultOrder": 27,
    "_isFastLaunch": false,
    "category": "Compute optimized",
    "gpuNum": 0,
    "hideHardwareSpecs": false,
    "memoryGiB": 144,
    "name": "ml.c5.18xlarge",
    "vcpuNum": 72
   },
   {
    "_defaultOrder": 28,
    "_isFastLaunch": false,
    "category": "Compute optimized",
    "gpuNum": 0,
    "hideHardwareSpecs": false,
    "memoryGiB": 192,
    "name": "ml.c5.24xlarge",
    "vcpuNum": 96
   },
   {
    "_defaultOrder": 29,
    "_isFastLaunch": true,
    "category": "Accelerated computing",
    "gpuNum": 1,
    "hideHardwareSpecs": false,
    "memoryGiB": 16,
    "name": "ml.g4dn.xlarge",
    "vcpuNum": 4
   },
   {
    "_defaultOrder": 30,
    "_isFastLaunch": false,
    "category": "Accelerated computing",
    "gpuNum": 1,
    "hideHardwareSpecs": false,
    "memoryGiB": 32,
    "name": "ml.g4dn.2xlarge",
    "vcpuNum": 8
   },
   {
    "_defaultOrder": 31,
    "_isFastLaunch": false,
    "category": "Accelerated computing",
    "gpuNum": 1,
    "hideHardwareSpecs": false,
    "memoryGiB": 64,
    "name": "ml.g4dn.4xlarge",
    "vcpuNum": 16
   },
   {
    "_defaultOrder": 32,
    "_isFastLaunch": false,
    "category": "Accelerated computing",
    "gpuNum": 1,
    "hideHardwareSpecs": false,
    "memoryGiB": 128,
    "name": "ml.g4dn.8xlarge",
    "vcpuNum": 32
   },
   {
    "_defaultOrder": 33,
    "_isFastLaunch": false,
    "category": "Accelerated computing",
    "gpuNum": 4,
    "hideHardwareSpecs": false,
    "memoryGiB": 192,
    "name": "ml.g4dn.12xlarge",
    "vcpuNum": 48
   },
   {
    "_defaultOrder": 34,
    "_isFastLaunch": false,
    "category": "Accelerated computing",
    "gpuNum": 1,
    "hideHardwareSpecs": false,
    "memoryGiB": 256,
    "name": "ml.g4dn.16xlarge",
    "vcpuNum": 64
   },
   {
    "_defaultOrder": 35,
    "_isFastLaunch": false,
    "category": "Accelerated computing",
    "gpuNum": 1,
    "hideHardwareSpecs": false,
    "memoryGiB": 61,
    "name": "ml.p3.2xlarge",
    "vcpuNum": 8
   },
   {
    "_defaultOrder": 36,
    "_isFastLaunch": false,
    "category": "Accelerated computing",
    "gpuNum": 4,
    "hideHardwareSpecs": false,
    "memoryGiB": 244,
    "name": "ml.p3.8xlarge",
    "vcpuNum": 32
   },
   {
    "_defaultOrder": 37,
    "_isFastLaunch": false,
    "category": "Accelerated computing",
    "gpuNum": 8,
    "hideHardwareSpecs": false,
    "memoryGiB": 488,
    "name": "ml.p3.16xlarge",
    "vcpuNum": 64
   },
   {
    "_defaultOrder": 38,
    "_isFastLaunch": false,
    "category": "Accelerated computing",
    "gpuNum": 8,
    "hideHardwareSpecs": false,
    "memoryGiB": 768,
    "name": "ml.p3dn.24xlarge",
    "vcpuNum": 96
   },
   {
    "_defaultOrder": 39,
    "_isFastLaunch": false,
    "category": "Memory Optimized",
    "gpuNum": 0,
    "hideHardwareSpecs": false,
    "memoryGiB": 16,
    "name": "ml.r5.large",
    "vcpuNum": 2
   },
   {
    "_defaultOrder": 40,
    "_isFastLaunch": false,
    "category": "Memory Optimized",
    "gpuNum": 0,
    "hideHardwareSpecs": false,
    "memoryGiB": 32,
    "name": "ml.r5.xlarge",
    "vcpuNum": 4
   },
   {
    "_defaultOrder": 41,
    "_isFastLaunch": false,
    "category": "Memory Optimized",
    "gpuNum": 0,
    "hideHardwareSpecs": false,
    "memoryGiB": 64,
    "name": "ml.r5.2xlarge",
    "vcpuNum": 8
   },
   {
    "_defaultOrder": 42,
    "_isFastLaunch": false,
    "category": "Memory Optimized",
    "gpuNum": 0,
    "hideHardwareSpecs": false,
    "memoryGiB": 128,
    "name": "ml.r5.4xlarge",
    "vcpuNum": 16
   },
   {
    "_defaultOrder": 43,
    "_isFastLaunch": false,
    "category": "Memory Optimized",
    "gpuNum": 0,
    "hideHardwareSpecs": false,
    "memoryGiB": 256,
    "name": "ml.r5.8xlarge",
    "vcpuNum": 32
   },
   {
    "_defaultOrder": 44,
    "_isFastLaunch": false,
    "category": "Memory Optimized",
    "gpuNum": 0,
    "hideHardwareSpecs": false,
    "memoryGiB": 384,
    "name": "ml.r5.12xlarge",
    "vcpuNum": 48
   },
   {
    "_defaultOrder": 45,
    "_isFastLaunch": false,
    "category": "Memory Optimized",
    "gpuNum": 0,
    "hideHardwareSpecs": false,
    "memoryGiB": 512,
    "name": "ml.r5.16xlarge",
    "vcpuNum": 64
   },
   {
    "_defaultOrder": 46,
    "_isFastLaunch": false,
    "category": "Memory Optimized",
    "gpuNum": 0,
    "hideHardwareSpecs": false,
    "memoryGiB": 768,
    "name": "ml.r5.24xlarge",
    "vcpuNum": 96
   },
   {
    "_defaultOrder": 47,
    "_isFastLaunch": false,
    "category": "Accelerated computing",
    "gpuNum": 1,
    "hideHardwareSpecs": false,
    "memoryGiB": 16,
    "name": "ml.g5.xlarge",
    "vcpuNum": 4
   },
   {
    "_defaultOrder": 48,
    "_isFastLaunch": false,
    "category": "Accelerated computing",
    "gpuNum": 1,
    "hideHardwareSpecs": false,
    "memoryGiB": 32,
    "name": "ml.g5.2xlarge",
    "vcpuNum": 8
   },
   {
    "_defaultOrder": 49,
    "_isFastLaunch": false,
    "category": "Accelerated computing",
    "gpuNum": 1,
    "hideHardwareSpecs": false,
    "memoryGiB": 64,
    "name": "ml.g5.4xlarge",
    "vcpuNum": 16
   },
   {
    "_defaultOrder": 50,
    "_isFastLaunch": false,
    "category": "Accelerated computing",
    "gpuNum": 1,
    "hideHardwareSpecs": false,
    "memoryGiB": 128,
    "name": "ml.g5.8xlarge",
    "vcpuNum": 32
   },
   {
    "_defaultOrder": 51,
    "_isFastLaunch": false,
    "category": "Accelerated computing",
    "gpuNum": 1,
    "hideHardwareSpecs": false,
    "memoryGiB": 256,
    "name": "ml.g5.16xlarge",
    "vcpuNum": 64
   },
   {
    "_defaultOrder": 52,
    "_isFastLaunch": false,
    "category": "Accelerated computing",
    "gpuNum": 4,
    "hideHardwareSpecs": false,
    "memoryGiB": 192,
    "name": "ml.g5.12xlarge",
    "vcpuNum": 48
   },
   {
    "_defaultOrder": 53,
    "_isFastLaunch": false,
    "category": "Accelerated computing",
    "gpuNum": 4,
    "hideHardwareSpecs": false,
    "memoryGiB": 384,
    "name": "ml.g5.24xlarge",
    "vcpuNum": 96
   },
   {
    "_defaultOrder": 54,
    "_isFastLaunch": false,
    "category": "Accelerated computing",
    "gpuNum": 8,
    "hideHardwareSpecs": false,
    "memoryGiB": 768,
    "name": "ml.g5.48xlarge",
    "vcpuNum": 192
   },
   {
    "_defaultOrder": 55,
    "_isFastLaunch": false,
    "category": "Accelerated computing",
    "gpuNum": 8,
    "hideHardwareSpecs": false,
    "memoryGiB": 1152,
    "name": "ml.p4d.24xlarge",
    "vcpuNum": 96
   },
   {
    "_defaultOrder": 56,
    "_isFastLaunch": false,
    "category": "Accelerated computing",
    "gpuNum": 8,
    "hideHardwareSpecs": false,
    "memoryGiB": 1152,
    "name": "ml.p4de.24xlarge",
    "vcpuNum": 96
   }
  ],
  "instance_type": "ml.t3.medium",
  "kernelspec": {
   "display_name": "conda_python3",
   "language": "python",
   "name": "conda_python3"
  },
  "language_info": {
   "codemirror_mode": {
    "name": "ipython",
    "version": 3
   },
   "file_extension": ".py",
   "mimetype": "text/x-python",
   "name": "python",
   "nbconvert_exporter": "python",
   "pygments_lexer": "ipython3",
   "version": "3.10.10"
  }
 },
 "nbformat": 4,
 "nbformat_minor": 5
}
