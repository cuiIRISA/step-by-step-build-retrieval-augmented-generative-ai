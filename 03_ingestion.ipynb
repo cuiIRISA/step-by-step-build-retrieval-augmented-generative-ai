{
 "cells": [
  {
   "cell_type": "markdown",
   "id": "429278b1-44cd-42a6-bb81-37c13b4dd11b",
   "metadata": {
    "tags": []
   },
   "source": [
    "#### Once we have embedded all content to vectors, we can save them to vector database"
   ]
  },
  {
   "cell_type": "markdown",
   "id": "1215a0d2-7406-4896-9a66-27442cc96e2f",
   "metadata": {},
   "source": [
    "Here we use pgvector from Amazon RDS"
   ]
  },
  {
   "cell_type": "code",
   "execution_count": 105,
   "id": "f4539555-6cd4-4e71-a8d4-dc43194321da",
   "metadata": {},
   "outputs": [
    {
     "name": "stdout",
     "output_type": "stream",
     "text": [
      "Looking in indexes: https://pypi.org/simple, https://pip.repos.neuron.amazonaws.com\n",
      "Requirement already satisfied: psycopg2-binary in /home/ec2-user/anaconda3/envs/python3/lib/python3.10/site-packages (2.9.7)\n",
      "Requirement already satisfied: pgvector in /home/ec2-user/anaconda3/envs/python3/lib/python3.10/site-packages (0.2.1)\n",
      "Requirement already satisfied: tqdm in /home/ec2-user/anaconda3/envs/python3/lib/python3.10/site-packages (4.66.1)\n",
      "Requirement already satisfied: numpy in /home/ec2-user/anaconda3/envs/python3/lib/python3.10/site-packages (from pgvector) (1.22.3)\n"
     ]
    }
   ],
   "source": [
    "!pip install -U psycopg2-binary pgvector tqdm "
   ]
  },
  {
   "cell_type": "code",
   "execution_count": 106,
   "id": "cd86ff4b-2ea7-4002-8254-8f50574f9500",
   "metadata": {
    "tags": []
   },
   "outputs": [],
   "source": [
    "import psycopg2\n",
    "from pgvector.psycopg2 import register_vector\n",
    "import boto3 \n",
    "import json \n",
    "\n",
    "client = boto3.client('secretsmanager')\n",
    "\n",
    "response = client.get_secret_value(\n",
    "    SecretId='rdspg-vector-secret'\n",
    ")\n",
    "database_secrets = json.loads(response['SecretString'])"
   ]
  },
  {
   "cell_type": "code",
   "execution_count": 107,
   "id": "733d380c-bf15-4209-9a14-de295759bf0e",
   "metadata": {
    "tags": []
   },
   "outputs": [],
   "source": [
    "dbhost = database_secrets['host']\n",
    "dbport = database_secrets['port']\n",
    "dbuser = database_secrets['username']\n",
    "dbpass = database_secrets['password']\n",
    "\n",
    "dbconn = psycopg2.connect(host=dbhost, user=dbuser, password=dbpass, port=dbport, connect_timeout=10)\n",
    "dbconn.set_session(autocommit=True)\n",
    "\n",
    "cur = dbconn.cursor()\n",
    "cur.execute(\"CREATE EXTENSION IF NOT EXISTS vector;\")\n",
    "register_vector(dbconn)\n",
    "cur.execute(\"DROP TABLE IF EXISTS pdfembedding;\")"
   ]
  },
  {
   "cell_type": "code",
   "execution_count": 108,
   "id": "02110e40-4e62-45eb-9917-5d636e843225",
   "metadata": {
    "tags": []
   },
   "outputs": [],
   "source": [
    "cur.execute(\"\"\"CREATE TABLE IF NOT EXISTS pdfembedding(\n",
    "               id bigserial primary key, \n",
    "               content text, \n",
    "               pdf_file_name text, \n",
    "               page_number int, \n",
    "               pdf_file_path text, \n",
    "               content_embeddings vector(1024));\"\"\")"
   ]
  },
  {
   "cell_type": "code",
   "execution_count": 109,
   "id": "fef63447-ab22-42ac-a9b0-1b3d027afb07",
   "metadata": {
    "tags": []
   },
   "outputs": [],
   "source": [
    "data_file_name = \"./data/embedding.json\""
   ]
  },
  {
   "cell_type": "code",
   "execution_count": 110,
   "id": "2b9e535c-9c48-45b9-aea4-5dfae5d9736e",
   "metadata": {
    "tags": []
   },
   "outputs": [],
   "source": [
    "with open(data_file_name, 'r') as f:\n",
    "    data = json.load(f)"
   ]
  },
  {
   "cell_type": "markdown",
   "id": "5f103eee-7ea8-4c50-8dcb-5d6a1320f3ab",
   "metadata": {},
   "source": [
    "#### Check the embedding size equals to 1024"
   ]
  },
  {
   "cell_type": "code",
   "execution_count": 111,
   "id": "88a7c913-6417-4b93-b760-8226a942d48b",
   "metadata": {
    "tags": []
   },
   "outputs": [
    {
     "name": "stdout",
     "output_type": "stream",
     "text": [
      "True\n"
     ]
    }
   ],
   "source": [
    "print(len(data[0]['embedding']) == 1024)"
   ]
  },
  {
   "cell_type": "code",
   "execution_count": 112,
   "id": "0f1a9beb-b4ad-4169-b899-4cc58060c771",
   "metadata": {
    "tags": []
   },
   "outputs": [],
   "source": [
    "for item in data:\n",
    "    cur.execute(\"\"\"INSERT INTO pdfembedding\n",
    "                      (content, pdf_file_name, page_number, pdf_file_path, content_embeddings) \n",
    "                  VALUES(%s, %s, %s, %s, %s);\"\"\", \n",
    "                  (item.get('content'), item.get('pdf_file_name'), item.get('page_number'), item.get('pdf_file_path'), item.get('embedding') ))"
   ]
  },
  {
   "cell_type": "code",
   "execution_count": null,
   "id": "809eab1b-d0cb-418d-80c3-dfaba4425e2a",
   "metadata": {},
   "outputs": [],
   "source": []
  },
  {
   "cell_type": "code",
   "execution_count": 113,
   "id": "90fc4c17-20c7-465b-930b-f5de58392583",
   "metadata": {
    "tags": []
   },
   "outputs": [],
   "source": [
    "cur.execute(\"\"\"CREATE INDEX ON pdfembedding \n",
    "               USING ivfflat (content_embeddings vector_l2_ops) WITH (lists = 100);\"\"\")"
   ]
  },
  {
   "cell_type": "code",
   "execution_count": 114,
   "id": "cd564025-73f1-4436-a2f9-a8586552f965",
   "metadata": {
    "tags": []
   },
   "outputs": [],
   "source": [
    "cur.execute(\"VACUUM ANALYZE pdfembedding;\")"
   ]
  },
  {
   "cell_type": "code",
   "execution_count": 115,
   "id": "6bc1b9f4-2a73-4cf7-bc64-9f814776584d",
   "metadata": {
    "tags": []
   },
   "outputs": [
    {
     "data": {
      "text/plain": [
       "[(1,\n",
       "  '2022 ANNUAL REPORT\\n2022 ANNUAL REPORT',\n",
       "  'annual_report.pdf',\n",
       "  0,\n",
       "  './pdfs/annual_report.pdf',\n",
       "  array([-0.01685877, -0.02806014,  0.02163149, ...,  0.02593217,\n",
       "          0.00515355,  0.03745385], dtype=float32)),\n",
       " (2,\n",
       "  'This annual report (in both English and Chinese versions) \\nhas been posted on the Company’s website at www.mi.com and the Stock Exchange’s website at www.hkexnews.hk. Shareholders who have chosen to rely on copies of the corporate communications (including but not limited to annual report and \\n(where applicable) summary financial report, interim report and \\n(where applicable) summary interim report, notice of meeting, listing document, circular and proxy form) posted on the aforesaid websites in lieu of any or all the printed copies thereof may request the printed copy of the annual report.\\nShareholders who have chosen or are deemed to have consented \\nto receive the corporate communications using electronic means and who have difficulty in receiving or gaining access to the annual report posted on the Company’s website will promptly upon request be sent the annual report in printed form free of charge.\\nShareholders may at any time choose to change their choice of \\nmeans of receipt (in printed form or by electronic means through the Company’s website) and language (in English only, in Chinese only or in both Chinese and English) of all future corporate communications from the Company by sending reasonable prior notice in writing by post to the Hong Kong Share Registrar at 17M Floor, Hopewell Centre, 183 Queen’s Road East, Wan Chai, Hong Kong or by email at xiaomi.ecom@computershare.com.hk.',\n",
       "  'annual_report.pdf',\n",
       "  1,\n",
       "  './pdfs/annual_report.pdf',\n",
       "  array([-0.00318792, -0.01165236,  0.02333468, ...,  0.00812499,\n",
       "         -0.04593883,  0.04276922], dtype=float32)),\n",
       " (3,\n",
       "  'CONTENTS\\nCORPORATE INFORMATION\\nFIVE-YEAR FINANCIAL SUMMARY\\nCHAIRMAN’S STATEMENT\\nMANAGEMENT DISCUSSION AND ANALYSIS\\nDIRECTOR’S REPORT\\nCORPORATE GOVERNANCE REPORT\\nENVIRONMENTAL, SOCIAL AND GOVERNANCE REPORT\\nINDEPENDENT AUDITOR’S REPORT\\nCONSOLIDATED FINANCIAL STATEMENTS\\nDEFINITIONS4\\n68\\n163078\\n100178186326\\n',\n",
       "  'annual_report.pdf',\n",
       "  2,\n",
       "  './pdfs/annual_report.pdf',\n",
       "  array([-0.02305646, -0.02453803,  0.02393537, ...,  0.01404294,\n",
       "         -0.01933085,  0.02610636], dtype=float32))]"
      ]
     },
     "execution_count": 115,
     "metadata": {},
     "output_type": "execute_result"
    }
   ],
   "source": [
    "cur.execute(\"\"\"SELECT id, content, pdf_file_name, page_number, pdf_file_path, content_embeddings \n",
    "            FROM pdfembedding \n",
    "            limit 3;\"\"\",\n",
    "           )\n",
    "r = cur.fetchall()\n",
    "r"
   ]
  },
  {
   "cell_type": "code",
   "execution_count": 116,
   "id": "423b9f2d-cf29-48a2-b46c-57acbc384d7a",
   "metadata": {
    "tags": []
   },
   "outputs": [
    {
     "name": "stdout",
     "output_type": "stream",
     "text": [
      "Vector embeddings has been successfully loaded into PostgreSQL\n"
     ]
    }
   ],
   "source": [
    "cur.close()\n",
    "dbconn.close()\n",
    "print (\"Vector embeddings has been successfully loaded into PostgreSQL\")\n",
    "     "
   ]
  },
  {
   "cell_type": "markdown",
   "id": "12229aeb-c77b-4e93-9d48-ae380b70d88a",
   "metadata": {},
   "source": [
    "## Evaluate PostgreSQL vector Search Results\n",
    "\n",
    "In this step we will use SageMaker realtime inference to generate embeddings for the query and use the embeddings to search the PostgreSQL to retrive the nearest neighbours and retrive the relevent content."
   ]
  },
  {
   "cell_type": "code",
   "execution_count": 117,
   "id": "acb6edb4-89d6-4a08-9faa-926b67d3d3f0",
   "metadata": {
    "tags": []
   },
   "outputs": [],
   "source": [
    "dbconn = psycopg2.connect(host=dbhost, user=dbuser, password=dbpass, port=dbport, connect_timeout=10)\n",
    "dbconn.set_session(autocommit=True)\n",
    "cur = dbconn.cursor()"
   ]
  },
  {
   "cell_type": "markdown",
   "id": "a36c57d0-9240-4dda-b39a-a604a12611e2",
   "metadata": {},
   "source": [
    "#### The embedding model used for knowledge base (pdf) embedding should be the same for query embedding"
   ]
  },
  {
   "cell_type": "code",
   "execution_count": 118,
   "id": "a0db4ed9-d129-4b78-b0f8-7a7976c696c2",
   "metadata": {
    "tags": []
   },
   "outputs": [],
   "source": [
    "endpoint_name = \"jumpstart-dft-mx-tcembedding-robertafin-large-uncased-2\""
   ]
  },
  {
   "cell_type": "code",
   "execution_count": 119,
   "id": "b7683022-9d9e-46bf-b404-9e9eb67fa281",
   "metadata": {
    "tags": []
   },
   "outputs": [],
   "source": [
    "query = \"\"\"\n",
    "99\\n2022 ANNUAL REPORT\\nShareholders’ Rights\\nTo safeguard the Shareholders’ interests and rights, separate resolutions are proposed at the Shareholders’ meetings on \\neach substantial issue, including the election of individual directors, for the Shareholders’ consideration and voting. All resolutions put forward at the Shareholders’ meetings will be voted by poll pursuant to the Listing Rules and poll results will be posted on the websites of the Company (www.mi.com) and the Stock Exchange after each Shareholders’ meeting.\\nPursuant to the Articles of the Company, extraordinary general meetings shall be convened on the written requisition \\nof any one or more Shareholders holding, as of the date of deposit of the requisition, in aggregate shares representing not less than one-tenth of the paid up capital of the Company which carry the right of voting at general meetings of the Company. A written requisition shall be deposited at the principal office of the Company in Hong Kong to the Board or the joint company secretaries for the purpose of requiring an extraordinary general meeting to be called by the Board for the transaction of any business specified in such requisition. Such meeting shall be held within two months after the deposit of such requisition. If within 21 days of such deposit, the Board fails to proceed to convene such meeting, the requisitionist(s) themselves may convene the general meeting in the same manner, and all reasonable expenses \\nincurred by the requisitionist(s) as a result of the failure of the Board shall be reimbursed to them by the Company.\\nFor the avoidance of doubt, Shareholders must deposit and send the original duly signed written requisition, notice \\nor statement (as the case may be) to the Company’s principal place of business in Hong Kong and provide their full name, contact details and identification in order to give effect thereto. Shareholders’ information may be disclosed as required by law.\\nThere is no provision allowing the Shareholders to move new resolutions at general meetings under the Cayman \\nIslands Companies Law or the Articles. Shareholders who wish to move a resolution may request the Company to \\nconvene a general meeting following the procedures set out in the preceding paragraph.\\nWith respect to the Shareholders’ right in proposing persons for election as Directors, please refer to the procedures \\navailable on the website of the Company.\\nDuring the Reporting Period, the Company has amended its Memorandum and Articles of Association by way of a \\nspecial resolution passed on June 2, 2022. Details of the amendments are set out in the circular dated April 27, 2022 to the Shareholders.\\nThe up-to-date version of the Memorandum and Articles of Association is available on the websites of the Company \\nand the Stock Exchange.\\nEvents after the Reporting Period\\nSave as disclosed in this Corporate Governance Report, there has been no other significant event subsequent to the Reporting Period and up to the Latest Practicable Date that might affect the Group. \n",
    "\"\"\""
   ]
  },
  {
   "cell_type": "code",
   "execution_count": 120,
   "id": "3167c600-3e8e-428a-b5d7-995bb42d76de",
   "metadata": {
    "tags": []
   },
   "outputs": [],
   "source": [
    "from sklearn.preprocessing import normalize\n",
    "import numpy as np \n",
    "\n",
    "def chunk_words(sequence, chunk_size):\n",
    "    sequence = sequence.split()\n",
    "    return [' '.join(sequence[i:i+chunk_size]) for i in range(0, len(sequence), chunk_size)]\n",
    "\n",
    "def query_endpoint(payload):\n",
    "    embeddings = []\n",
    "    client = boto3.client(\"sagemaker-runtime\")\n",
    "    chunk_payload = chunk_words(payload, 400)\n",
    "    for i, chunk in enumerate(chunk_payload):\n",
    "        #print(\"Chunk \",i)\n",
    "        #print(\"Content \",chunk)\n",
    "        response = client.invoke_endpoint(\n",
    "            EndpointName=endpoint_name,\n",
    "            ContentType=\"application/x-text\",\n",
    "            Body=json.dumps(chunk),\n",
    "        )    \n",
    "        response = response[\"Body\"].read().decode(\"utf8\")\n",
    "        response = json.loads(response)\n",
    "        embeddings_chunk = response[\"embedding\"]\n",
    "        embeddings.append(embeddings_chunk)\n",
    "    return embeddings\n",
    "\n",
    "def parse_response(query_response):\n",
    "    \"\"\"Parse response and return the embedding.\"\"\"\n",
    "    embeddings = np.array(query_endpoint(query_response))\n",
    "    #avg_embeddings = np.mean(embeddings, axis=0)\n",
    "    # try max pooling of embedding vector\n",
    "    avg_embeddings = np.max(embeddings, axis=0)\n",
    "\n",
    "    avg_embeddings = avg_embeddings.reshape(1, -1)\n",
    "    # normalization before inner product\n",
    "    avg_embeddings = normalize(avg_embeddings, axis=1, norm='l2')\n",
    "    return np.squeeze(avg_embeddings)"
   ]
  },
  {
   "cell_type": "code",
   "execution_count": 121,
   "id": "2478176c-b875-420d-94bf-af4c3c80cac4",
   "metadata": {
    "tags": []
   },
   "outputs": [
    {
     "name": "stdout",
     "output_type": "stream",
     "text": [
      "1024\n"
     ]
    }
   ],
   "source": [
    "query_response = parse_response(query)\n",
    "print(len(query_response))"
   ]
  },
  {
   "cell_type": "code",
   "execution_count": 122,
   "id": "09da53f9-3f37-4c68-979a-514f1cf9fcd2",
   "metadata": {
    "tags": []
   },
   "outputs": [],
   "source": [
    "query_vector = query_response"
   ]
  },
  {
   "cell_type": "code",
   "execution_count": 123,
   "id": "e87244a0-f673-4373-aa40-f48dffbcf42c",
   "metadata": {
    "tags": []
   },
   "outputs": [
    {
     "name": "stdout",
     "output_type": "stream",
     "text": [
      "<class 'numpy.ndarray'>\n",
      "[ 0.00119371  0.02671994  0.01099941 ...  0.02109275 -0.01836102\n",
      "  0.05742953]\n"
     ]
    }
   ],
   "source": [
    "print(type(query_vector))\n",
    "print(query_vector)"
   ]
  },
  {
   "cell_type": "markdown",
   "id": "eb037f85-7f6d-4327-8d24-eba5f90bd101",
   "metadata": {},
   "source": [
    "#### Let's extract the top 3 most relevant pages from our database"
   ]
  },
  {
   "cell_type": "code",
   "execution_count": 124,
   "id": "825d78e1-8b0f-498a-91f2-80d6f76010a6",
   "metadata": {
    "tags": []
   },
   "outputs": [],
   "source": [
    "# Execute the query\n",
    "cur.execute(\"\"\"\n",
    "    SELECT id, content, pdf_file_name, page_number, pdf_file_path, content_embeddings\n",
    "    FROM pdfembedding\n",
    "    ORDER BY content_embeddings <=> %s limit 5;\n",
    "    \"\"\", \n",
    "    (query_vector,)\n",
    ")"
   ]
  },
  {
   "cell_type": "code",
   "execution_count": 125,
   "id": "2995ccc8-e89f-4301-92d7-3d1b7700ded6",
   "metadata": {
    "tags": []
   },
   "outputs": [],
   "source": [
    "# Fetch the results\n",
    "results = cur.fetchall()"
   ]
  },
  {
   "cell_type": "code",
   "execution_count": 126,
   "id": "e668da32-da5e-42ac-900a-b07ca65a67ba",
   "metadata": {},
   "outputs": [
    {
     "data": {
      "text/plain": [
       "[(101,\n",
       "  '99\\n2022 ANNUAL REPORT\\nShareholders’ Rights\\nTo safeguard the Shareholders’ interests and rights, separate resolutions are proposed at the Shareholders’ meetings on \\neach substantial issue, including the election of individual directors, for the Shareholders’ consideration and voting. All resolutions put forward at the Shareholders’ meetings will be voted by poll pursuant to the Listing Rules and poll results will be posted on the websites of the Company (www.mi.com) and the Stock Exchange after each Shareholders’ meeting.\\nPursuant to the Articles of the Company, extraordinary general meetings shall be convened on the written requisition \\nof any one or more Shareholders holding, as of the date of deposit of the requisition, in aggregate shares representing not less than one-tenth of the paid up capital of the Company which carry the right of voting at general meetings of the Company. A written requisition shall be deposited at the principal office of the Company in Hong Kong to the Board or the joint company secretaries for the purpose of requiring an extraordinary general meeting to be called by the Board for the transaction of any business specified in such requisition. Such meeting shall be held within two months after the deposit of such requisition. If within 21 days of such deposit, the Board fails to proceed to convene such meeting, the requisitionist(s) themselves may convene the general meeting in the same manner, and all reasonable expenses \\nincurred by the requisitionist(s) as a result of the failure of the Board shall be reimbursed to them by the Company.\\nFor the avoidance of doubt, Shareholders must deposit and send the original duly signed written requisition, notice \\nor statement (as the case may be) to the Company’s principal place of business in Hong Kong and provide their full name, contact details and identification in order to give effect thereto. Shareholders’ information may be disclosed as required by law.\\nThere is no provision allowing the Shareholders to move new resolutions at general meetings under the Cayman \\nIslands Companies Law or the Articles. Shareholders who wish to move a resolution may request the Company to \\nconvene a general meeting following the procedures set out in the preceding paragraph.\\nWith respect to the Shareholders’ right in proposing persons for election as Directors, please refer to the procedures \\navailable on the website of the Company.\\nDuring the Reporting Period, the Company has amended its Memorandum and Articles of Association by way of a \\nspecial resolution passed on June 2, 2022. Details of the amendments are set out in the circular dated April 27, 2022 to the Shareholders.\\nThe up-to-date version of the Memorandum and Articles of Association is available on the websites of the Company \\nand the Stock Exchange.\\nEvents after the Reporting Period\\nSave as disclosed in this Corporate Governance Report, there has been no other significant event subsequent to the Reporting Period and up to the Latest Practicable Date that might affect the Group. ',\n",
       "  'annual_report.pdf',\n",
       "  100,\n",
       "  './pdfs/annual_report.pdf',\n",
       "  array([ 0.00119371,  0.02671994,  0.01099941, ...,  0.02109275,\n",
       "         -0.01836102,  0.05742953], dtype=float32)),\n",
       " (79,\n",
       "  '77\\n2022 ANNUAL REPORT\\nAudit Committee\\nThe Company has established the Audit Committee in compliance with Rule 3.21 of the Listing Rules and the \\nCG Code. The primary duties of the Audit Committee are to review and supervise the financial reporting process and \\ninternal controls system of the Group, review and approve connected transactions and to advise the Board. As of \\nDecember  31, 2022, the Audit Committee comprises one non-executive Director and two independent non-executive \\nDirectors, namely, Mr. Liu Qin, Dr. Chen Dongsheng and Mr. Wong Shun Tak. Mr. Wong Shun Tak is the chairman of \\nthe Audit  Committee.\\nThe Audit Committee has reviewed the audited consolidated financial statements of the Group for the Reporting \\nPeriod. The Audit Committee has also discussed matters with respect to the accounting policies and practices adopted by the Company and internal control with senior management members and the Auditor.\\nMaterial Litigation\\nThe Company was not involved in any material litigation or arbitration during the Reporting Period nor were the Directors aware of any material litigation or claims that were pending or threatened against the Company.\\nPublic Float\\nBased on the information that is publicly available to the Company and within the knowledge of the Directors as of Latest Practicable Date, the Company has maintained the prescribed percentage of public float under the Listing Rules.\\nCompliance with Relevant Laws and Regulations\\nAs far as the Board is aware, the Group has complied with the relevant laws and regulations that have a significant impact on the Group in all material aspects.\\nAuditor\\nThe consolidated financial statements of the Group have been audited by PricewaterhouseCoopers, who will retire and, being eligible, offer themselves for re-appointment at the annual general meeting.\\nEvents after the Reporting Period\\nSave as disclosed above, there have been no other significant events that might affect the Group since the end of the Reporting Period and up to the date of this annual report. \\nBy order of the Board\\nLei JunChairman\\nHong Kong, March 24, 2023',\n",
       "  'annual_report.pdf',\n",
       "  78,\n",
       "  './pdfs/annual_report.pdf',\n",
       "  array([-0.00883262,  0.00809458,  0.00526804, ...,  0.02601507,\n",
       "         -0.01100118,  0.04061047], dtype=float32)),\n",
       " (55,\n",
       "  '53\\n2022 ANNUAL REPORT\\n2. Non-executive Director and independent non-executive Directors  \\nLiu Qin has entered into an appointment letter with our Company on June 10, 2021. The initial term for his \\nappointment letters shall commence from the date of his appointment and shall continue for three years after (subject always to re-election as and when required under the Articles of Association) until terminated in accordance with the terms and conditions of the appointment letter or by either party giving to the other not less than one month’s prior notice in writing. No annual director’s fees are payable to the non-executive Directors \\nunder the current arrangement.\\nEach of Chen Dongsheng and Wong Shun Tak has entered into an appointment letter with our Company on June \\n10, 2021, and Tong Wai Cheung Timothy has entered into an appointment letter with our Company on August 23, 2022. The initial term for their appointment letters shall be three years from the date of their appointment (subject always to re-election as and when required under the Articles of Association) until terminated in accordance with the terms and conditions of the appointment letter or by either party giving to the other not less than three months’ prior notice in writing. Under these appointment letters, each of the independent non-executive \\nDirectors will receive an annual director’s fee of HK$600,000, which in each case has been recommended by the \\nRemuneration Committee and approved by the Board with reference to the independent non-executive Director’s qualifications, experience and responsibilities with the Company.\\nNone of the Directors (including the Directors proposed for re-election at the annual general meeting) have a service contract with members of the Group that is not determinable by the Group within one year without payment of compensation, other than statutory compensation.\\nDirectors’ Interests and Short Positions in Shares and Underlying Shares and \\nDebentures of the Company or any of its Associated Corporations\\nAs of December 31, 2022, the interests and short positions of our Directors or chief executives of the Company in the \\nShares, underlying Shares and debentures of the Company or its associated corporations (within the meaning of Part \\nXV of the SFO), as recorded in the register required to be kept by the Company pursuant to Section 352 of the SFO, or \\nas otherwise notified to the Company and the Stock Exchange pursuant to the Model Code were as follows:',\n",
       "  'annual_report.pdf',\n",
       "  54,\n",
       "  './pdfs/annual_report.pdf',\n",
       "  array([-0.01374887,  0.0288463 ,  0.00028664, ...,  0.01768753,\n",
       "         -0.01295011,  0.05124972], dtype=float32)),\n",
       " (99,\n",
       "  '97\\n2022 ANNUAL REPORT\\nCommunications with Shareholders and Investor Relations\\nThe Board believes that effective communication with the Shareholders is essential for enhancing investor relations \\nand investors’ understanding of the Group’s business performance and strategies. The Group also recognizes the importance of transparency and timely disclosure of its corporate information, which enables the Shareholders and \\ninvestors to make the best investment decision. In this respect, the terms of reference of the Company’s Corporate \\nGovernance Committee include, among others, seeking to ensure effective and on-going communication between the \\nCompany and the Shareholders.\\nGeneral meetings of the Company provide an opportunity for communication between the directors, senior \\nmanagement and the Shareholders. The Board welcomes views of the Shareholders and encourages them to attend general meetings to raise any concerns they might have with the Board or the management directly. Board members and appropriate senior management of the Company are available at such meetings to respond to enquiries raised by \\nthe Shareholders. To safeguard Shareholders’ interests and rights, a separate resolution will be proposed for each \\nissue at general meetings. \\nDuring the Reporting Period, the Company held an annual general meeting on June 2, 2022, whereby Shareholders \\nentitled to attend were only able to join via online webcast due to the COVID-19 pandemic (the “ Special Arrangement”). \\nNotice of the meeting was sent to the Shareholders on April 27, 2022, not less than 21 days before the date of the \\nannual general meeting. Notice of the Special Arrangement was published by the Company on the website of the Stock Exchange on May 23, 2022. The chairman of the Board and the chairmen of each of the Audit Committee, the Corporate Governance Committee, the Nomination Committee and the Remuneration Committee attended the \\nannual general meeting and were available to answer any questions raised by the Shareholders. A representative of \\nthe Auditor also attended to answer any questions about the conduct of the audit, the preparation and content of the auditors’ report, the accounting policies and auditor independence.\\nThe Company publishes in a timely manner both English and Chinese versions of (i) any corporate communication (as \\ndefined in the Listing Rules) of the Company that requires shareholder attention or action, and (ii) announcements \\nrelating to matters to be disclosed under the Listing Rules (including but not limited to those involving insider information, corporate actions and corporate transactions).\\nThe Company maintains a website at “ www.mi.com\\n ” as a communication platform with the Shareholders and  \\ninvestors, where information on the Company’s announcement, financial information and other information are \\navailable for public access. Shareholders and investors may send written enquiries or requests to the Company, for the attention of the Board of Directors, as follows:\\nAddress:  5/F, Manulife Place, 348 Kwun Tong Road, Kowloon, Hong Kong\\nEmail:  ir@xiaomi.com ',\n",
       "  'annual_report.pdf',\n",
       "  98,\n",
       "  './pdfs/annual_report.pdf',\n",
       "  array([ 0.01606799, -0.00682684,  0.01976974, ...,  0.01279651,\n",
       "         -0.00852589,  0.03772121], dtype=float32)),\n",
       " (100,\n",
       "  '98\\nXIAOMI CORPORATION\\nCORPORATE GOVERNANCE REPORT\\nThe Company continues to enhance communications and relationships with Shareholders and investors. Designated \\nsenior management maintains regular dialogue with institutional investors and analysts to keep them posted of the Company’s developments. Enquiries from shareholders and investors are dealt with in an informative and timely \\nmanner.\\nThe Company ensures that the Hong Kong Share Registrar, Computershare Hong Kong Investor Services Limited, \\nmaintains the most up-to-date information relating to the Company’s shares at all times so that it can respond \\neffectively to shareholder enquiries.\\nShareholders’ Communication Policy\\nThe Company has established a shareholders’ communication policy with the objective of promoting effective and \\non-going communication between the Company and the Shareholders so that they can exercise their rights in an informed manner. The Company endeavors to maintain an on-going dialogue with Shareholders and in particular, through annual general meetings and other general meetings. Directors (or their delegates as appropriate), \\nappropriate management executives and external auditor will use all reasonable endeavors to attend annual general \\nmeetings and answer enquiries from Shareholders. \\nThe Company discloses information and publishes periodic reports and announcements to the public in accordance \\nwith the Listing Rules, the relevant laws and regulations. The primary focus of the Company is to ensure information \\ndisclosure is timely, fair, accurate, truthful and does not contain any material omission, thereby enabling Shareholders, investors as well as the public to make rational and informed decisions. \\nDuring the Reporting Period, the Corporate Governance Committee reviewed the shareholders’ communication policy \\nand ensure its implementation and effectiveness, particularly with regards to the requirements of Rule 8A.35 of the Listing Rules.\\nDividend Policy\\nWith respect to code provision F.1.1 of the CG Code, the Company has adopted a dividend policy on payment of dividends. The Company does not have any pre-determined dividend payout ratio. Depending on the financial \\nconditions of the Company and the Group and the conditions and factors as set out in the dividend policy, dividends \\nmay be proposed and/or declared by the Board during a financial year and any final dividend for a financial year will be subject to the Shareholders’ approval.',\n",
       "  'annual_report.pdf',\n",
       "  99,\n",
       "  './pdfs/annual_report.pdf',\n",
       "  array([-0.01097662,  0.00415894,  0.01088868, ...,  0.02283521,\n",
       "         -0.00727067,  0.04405471], dtype=float32))]"
      ]
     },
     "execution_count": 126,
     "metadata": {},
     "output_type": "execute_result"
    }
   ],
   "source": [
    "results"
   ]
  },
  {
   "cell_type": "code",
   "execution_count": 127,
   "id": "9bdbee99-55e9-4641-a4b5-f7871ae0ee54",
   "metadata": {
    "tags": []
   },
   "outputs": [],
   "source": [
    "cur.close()\n",
    "dbconn.close()"
   ]
  },
  {
   "cell_type": "code",
   "execution_count": null,
   "id": "b0561cab-df27-42be-875c-849cf4b39235",
   "metadata": {},
   "outputs": [],
   "source": []
  }
 ],
 "metadata": {
  "kernelspec": {
   "display_name": "conda_python3",
   "language": "python",
   "name": "conda_python3"
  },
  "language_info": {
   "codemirror_mode": {
    "name": "ipython",
    "version": 3
   },
   "file_extension": ".py",
   "mimetype": "text/x-python",
   "name": "python",
   "nbconvert_exporter": "python",
   "pygments_lexer": "ipython3",
   "version": "3.10.10"
  }
 },
 "nbformat": 4,
 "nbformat_minor": 5
}
