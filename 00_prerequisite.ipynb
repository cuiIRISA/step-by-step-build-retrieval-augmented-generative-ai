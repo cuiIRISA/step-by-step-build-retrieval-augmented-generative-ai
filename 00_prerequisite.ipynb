{
 "cells": [
  {
   "cell_type": "markdown",
   "id": "f9ddebca-7dce-4e7d-a77b-9786b5344377",
   "metadata": {
    "tags": []
   },
   "source": [
    "#### Download the Financial report for our step by step guidance, you can try your own dataset e.g. annual report by uploading the pdf to the destination folder. You can also add multiple files"
   ]
  },
  {
   "cell_type": "code",
   "execution_count": 3,
   "id": "d9674293-06be-40ba-b929-64deb4e2c035",
   "metadata": {
    "tags": []
   },
   "outputs": [],
   "source": [
    "destination = 'pdfs/annual_report.pdf'\n",
    "\n",
    "# Example annual report:\n",
    "url = 'https://ir.mi.com/system/files-encrypted/nasdaq_kms/assets/2023/04/26/6-55-12/2022%20Annual%20Report_ENG.pdf'"
   ]
  },
  {
   "cell_type": "code",
   "execution_count": 4,
   "id": "74210b83-a46e-4da5-b9ec-2902ab2e0f45",
   "metadata": {
    "tags": []
   },
   "outputs": [],
   "source": [
    "import requests\n",
    "\n",
    "def download_pdf(url, destination):\n",
    "    response = requests.get(url)\n",
    "    \n",
    "    with open(destination, 'wb') as output_file:\n",
    "        output_file.write(response.content)\n",
    "        \n",
    "download_pdf(url, destination)"
   ]
  },
  {
   "cell_type": "code",
   "execution_count": null,
   "id": "f2106b81-97a1-4ef7-8b09-744a9bb3bb34",
   "metadata": {},
   "outputs": [],
   "source": []
  }
 ],
 "metadata": {
  "kernelspec": {
   "display_name": "conda_python3",
   "language": "python",
   "name": "conda_python3"
  },
  "language_info": {
   "codemirror_mode": {
    "name": "ipython",
    "version": 3
   },
   "file_extension": ".py",
   "mimetype": "text/x-python",
   "name": "python",
   "nbconvert_exporter": "python",
   "pygments_lexer": "ipython3",
   "version": "3.10.10"
  }
 },
 "nbformat": 4,
 "nbformat_minor": 5
}
